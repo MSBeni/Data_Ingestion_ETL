{
 "cells": [
  {
   "cell_type": "code",
   "execution_count": 2,
   "metadata": {},
   "outputs": [],
   "source": [
    "import findspark"
   ]
  },
  {
   "cell_type": "code",
   "execution_count": 3,
   "metadata": {},
   "outputs": [],
   "source": [
    "findspark.init('/home/i-sip_iot/spark-3.0.1-bin-hadoop2.7')"
   ]
  },
  {
   "cell_type": "code",
   "execution_count": 4,
   "metadata": {},
   "outputs": [],
   "source": [
    "import pyspark"
   ]
  },
  {
   "cell_type": "code",
   "execution_count": 5,
   "metadata": {},
   "outputs": [],
   "source": [
    "from pyspark.sql import SparkSession"
   ]
  },
  {
   "cell_type": "code",
   "execution_count": 6,
   "metadata": {},
   "outputs": [],
   "source": [
    "spark = SparkSession.builder.appName('DTRF').getOrCreate()"
   ]
  },
  {
   "cell_type": "code",
   "execution_count": 7,
   "metadata": {},
   "outputs": [],
   "source": [
    "from pyspark.ml.classification import RandomForestClassifier, DecisionTreeClassifier, GBTClassifier"
   ]
  },
  {
   "cell_type": "code",
   "execution_count": 8,
   "metadata": {},
   "outputs": [],
   "source": [
    "df = spark.read.format('libsvm').load('sample_libsvm_data.txt')"
   ]
  },
  {
   "cell_type": "code",
   "execution_count": 9,
   "metadata": {},
   "outputs": [
    {
     "name": "stdout",
     "output_type": "stream",
     "text": [
      "+-----+--------------------+\n",
      "|label|            features|\n",
      "+-----+--------------------+\n",
      "|  0.0|(692,[127,128,129...|\n",
      "|  1.0|(692,[158,159,160...|\n",
      "|  1.0|(692,[124,125,126...|\n",
      "|  1.0|(692,[152,153,154...|\n",
      "|  1.0|(692,[151,152,153...|\n",
      "|  0.0|(692,[129,130,131...|\n",
      "|  1.0|(692,[158,159,160...|\n",
      "|  1.0|(692,[99,100,101,...|\n",
      "|  0.0|(692,[154,155,156...|\n",
      "|  0.0|(692,[127,128,129...|\n",
      "|  1.0|(692,[154,155,156...|\n",
      "|  0.0|(692,[153,154,155...|\n",
      "|  0.0|(692,[151,152,153...|\n",
      "|  1.0|(692,[129,130,131...|\n",
      "|  0.0|(692,[154,155,156...|\n",
      "|  1.0|(692,[150,151,152...|\n",
      "|  0.0|(692,[124,125,126...|\n",
      "|  0.0|(692,[152,153,154...|\n",
      "|  1.0|(692,[97,98,99,12...|\n",
      "|  1.0|(692,[124,125,126...|\n",
      "+-----+--------------------+\n",
      "only showing top 20 rows\n",
      "\n"
     ]
    }
   ],
   "source": [
    "df.show()"
   ]
  },
  {
   "cell_type": "code",
   "execution_count": 10,
   "metadata": {},
   "outputs": [],
   "source": [
    "RFC = RandomForestClassifier(numTrees=100)\n",
    "DTC = DecisionTreeClassifier()\n",
    "GBT = GBTClassifier()"
   ]
  },
  {
   "cell_type": "code",
   "execution_count": 11,
   "metadata": {},
   "outputs": [],
   "source": [
    "train_df, test_df = df.randomSplit([0.7, 0.3])"
   ]
  },
  {
   "cell_type": "code",
   "execution_count": 12,
   "metadata": {},
   "outputs": [],
   "source": [
    "RFC_trained = RFC.fit(train_df)\n",
    "DTC_trained = DTC.fit(train_df)\n",
    "GBT_trained = GBT.fit(train_df)"
   ]
  },
  {
   "cell_type": "code",
   "execution_count": 14,
   "metadata": {},
   "outputs": [],
   "source": [
    "RFC_test = RFC_trained.transform(test_df)\n",
    "DTC_test = DTC_trained.transform(test_df)\n",
    "GBT_test = GBT_trained.transform(test_df)"
   ]
  },
  {
   "cell_type": "code",
   "execution_count": 15,
   "metadata": {},
   "outputs": [
    {
     "name": "stdout",
     "output_type": "stream",
     "text": [
      "+-----+--------------------+-------------+-----------+----------+\n",
      "|label|            features|rawPrediction|probability|prediction|\n",
      "+-----+--------------------+-------------+-----------+----------+\n",
      "|  0.0|(692,[122,123,148...|   [93.0,7.0]|[0.93,0.07]|       0.0|\n",
      "|  0.0|(692,[124,125,126...|   [99.0,1.0]|[0.99,0.01]|       0.0|\n",
      "|  0.0|(692,[126,127,128...|   [91.0,9.0]|[0.91,0.09]|       0.0|\n",
      "|  0.0|(692,[126,127,128...|   [99.0,1.0]|[0.99,0.01]|       0.0|\n",
      "|  0.0|(692,[128,129,130...|   [97.0,3.0]|[0.97,0.03]|       0.0|\n",
      "|  0.0|(692,[150,151,152...|  [87.0,13.0]|[0.87,0.13]|       0.0|\n",
      "|  0.0|(692,[153,154,155...|   [93.0,7.0]|[0.93,0.07]|       0.0|\n",
      "|  0.0|(692,[154,155,156...|   [93.0,7.0]|[0.93,0.07]|       0.0|\n",
      "|  0.0|(692,[234,235,237...|  [81.0,19.0]|[0.81,0.19]|       0.0|\n",
      "|  1.0|(692,[100,101,102...|   [2.0,98.0]|[0.02,0.98]|       1.0|\n",
      "|  1.0|(692,[119,120,121...|  [22.0,78.0]|[0.22,0.78]|       1.0|\n",
      "|  1.0|(692,[123,124,125...|   [1.0,99.0]|[0.01,0.99]|       1.0|\n",
      "|  1.0|(692,[124,125,126...|   [1.0,99.0]|[0.01,0.99]|       1.0|\n",
      "|  1.0|(692,[125,126,153...|  [0.0,100.0]|  [0.0,1.0]|       1.0|\n",
      "|  1.0|(692,[126,127,128...|  [0.0,100.0]|  [0.0,1.0]|       1.0|\n",
      "|  1.0|(692,[126,127,128...|  [0.0,100.0]|  [0.0,1.0]|       1.0|\n",
      "|  1.0|(692,[127,128,129...|  [0.0,100.0]|  [0.0,1.0]|       1.0|\n",
      "|  1.0|(692,[127,128,129...|   [1.0,99.0]|[0.01,0.99]|       1.0|\n",
      "|  1.0|(692,[127,128,154...|   [2.0,98.0]|[0.02,0.98]|       1.0|\n",
      "|  1.0|(692,[128,129,130...|   [2.0,98.0]|[0.02,0.98]|       1.0|\n",
      "+-----+--------------------+-------------+-----------+----------+\n",
      "only showing top 20 rows\n",
      "\n"
     ]
    }
   ],
   "source": [
    "RFC_test.show()"
   ]
  },
  {
   "cell_type": "code",
   "execution_count": 16,
   "metadata": {},
   "outputs": [
    {
     "name": "stdout",
     "output_type": "stream",
     "text": [
      "+-----+--------------------+--------------------+--------------------+----------+\n",
      "|label|            features|       rawPrediction|         probability|prediction|\n",
      "+-----+--------------------+--------------------+--------------------+----------+\n",
      "|  0.0|(692,[122,123,148...|[1.54350200272498...|[0.95635347857270...|       0.0|\n",
      "|  0.0|(692,[124,125,126...|[1.54350200272498...|[0.95635347857270...|       0.0|\n",
      "|  0.0|(692,[126,127,128...|[1.50735770516607...|[0.95323450996218...|       0.0|\n",
      "|  0.0|(692,[126,127,128...|[1.54350200272498...|[0.95635347857270...|       0.0|\n",
      "|  0.0|(692,[128,129,130...|[1.54350200272498...|[0.95635347857270...|       0.0|\n",
      "|  0.0|(692,[150,151,152...|[1.54350200272498...|[0.95635347857270...|       0.0|\n",
      "|  0.0|(692,[153,154,155...|[1.54350200272498...|[0.95635347857270...|       0.0|\n",
      "|  0.0|(692,[154,155,156...|[1.54350200272498...|[0.95635347857270...|       0.0|\n",
      "|  0.0|(692,[234,235,237...|[1.18123643056328...|[0.91392054418160...|       0.0|\n",
      "|  1.0|(692,[100,101,102...|[-1.5435020027249...|[0.04364652142729...|       1.0|\n",
      "|  1.0|(692,[119,120,121...|[-1.5073577051660...|[0.04676549003781...|       1.0|\n",
      "|  1.0|(692,[123,124,125...|[-1.5435020027249...|[0.04364652142729...|       1.0|\n",
      "|  1.0|(692,[124,125,126...|[-1.5435020027249...|[0.04364652142729...|       1.0|\n",
      "|  1.0|(692,[125,126,153...|[-1.5435020027249...|[0.04364652142729...|       1.0|\n",
      "|  1.0|(692,[126,127,128...|[-1.5435020027249...|[0.04364652142729...|       1.0|\n",
      "|  1.0|(692,[126,127,128...|[-1.5435020027249...|[0.04364652142729...|       1.0|\n",
      "|  1.0|(692,[127,128,129...|[-1.5435020027249...|[0.04364652142729...|       1.0|\n",
      "|  1.0|(692,[127,128,129...|[-1.5435020027249...|[0.04364652142729...|       1.0|\n",
      "|  1.0|(692,[127,128,154...|[-1.5435020027249...|[0.04364652142729...|       1.0|\n",
      "|  1.0|(692,[128,129,130...|[-1.5435020027249...|[0.04364652142729...|       1.0|\n",
      "+-----+--------------------+--------------------+--------------------+----------+\n",
      "only showing top 20 rows\n",
      "\n"
     ]
    }
   ],
   "source": [
    "GBT_test.show()"
   ]
  },
  {
   "cell_type": "code",
   "execution_count": 17,
   "metadata": {},
   "outputs": [],
   "source": [
    "from pyspark.ml.evaluation import MulticlassClassificationEvaluator"
   ]
  },
  {
   "cell_type": "code",
   "execution_count": 18,
   "metadata": {},
   "outputs": [],
   "source": [
    "evaluator = MulticlassClassificationEvaluator(metricName='accuracy')"
   ]
  },
  {
   "cell_type": "code",
   "execution_count": 19,
   "metadata": {},
   "outputs": [
    {
     "data": {
      "text/plain": [
       "1.0"
      ]
     },
     "execution_count": 19,
     "metadata": {},
     "output_type": "execute_result"
    }
   ],
   "source": [
    "evaluator.evaluate(RFC_test)  "
   ]
  },
  {
   "cell_type": "code",
   "execution_count": 20,
   "metadata": {},
   "outputs": [
    {
     "data": {
      "text/plain": [
       "1.0"
      ]
     },
     "execution_count": 20,
     "metadata": {},
     "output_type": "execute_result"
    }
   ],
   "source": [
    "evaluator.evaluate(DTC_test)  "
   ]
  },
  {
   "cell_type": "code",
   "execution_count": 21,
   "metadata": {},
   "outputs": [
    {
     "data": {
      "text/plain": [
       "1.0"
      ]
     },
     "execution_count": 21,
     "metadata": {},
     "output_type": "execute_result"
    }
   ],
   "source": [
    "evaluator.evaluate(GBT_test)  "
   ]
  },
  {
   "cell_type": "code",
   "execution_count": 22,
   "metadata": {},
   "outputs": [
    {
     "data": {
      "text/plain": [
       "SparseVector(692, {100: 0.0005, 101: 0.001, 129: 0.0003, 132: 0.0005, 154: 0.0002, 156: 0.0005, 157: 0.0005, 180: 0.0004, 181: 0.0009, 188: 0.0005, 203: 0.0005, 208: 0.0064, 212: 0.0005, 214: 0.0011, 216: 0.0057, 234: 0.0071, 238: 0.0005, 239: 0.0011, 243: 0.0006, 244: 0.0082, 258: 0.0035, 263: 0.0004, 267: 0.0005, 268: 0.0005, 271: 0.001, 272: 0.007, 273: 0.0003, 291: 0.0066, 294: 0.0017, 295: 0.0005, 296: 0.0026, 298: 0.0006, 299: 0.0008, 300: 0.0145, 301: 0.0305, 317: 0.0285, 322: 0.0013, 323: 0.0015, 324: 0.0005, 326: 0.0013, 327: 0.0005, 328: 0.0088, 329: 0.007, 342: 0.0011, 345: 0.0144, 346: 0.001, 349: 0.001, 350: 0.0086, 351: 0.019, 352: 0.001, 353: 0.001, 354: 0.0014, 355: 0.0006, 356: 0.0085, 357: 0.0026, 358: 0.0051, 372: 0.0082, 374: 0.0006, 375: 0.0005, 378: 0.0178, 379: 0.0299, 380: 0.0048, 383: 0.0027, 384: 0.0071, 385: 0.0238, 386: 0.0054, 398: 0.0006, 399: 0.0062, 400: 0.0072, 405: 0.0104, 406: 0.0484, 407: 0.0285, 413: 0.0168, 425: 0.003, 427: 0.017, 429: 0.0009, 431: 0.0006, 433: 0.0177, 434: 0.0268, 435: 0.0091, 436: 0.001, 440: 0.0157, 441: 0.0033, 455: 0.048, 457: 0.0005, 461: 0.0263, 462: 0.0507, 463: 0.0269, 464: 0.0005, 465: 0.0037, 468: 0.0022, 470: 0.0016, 471: 0.0014, 472: 0.0019, 481: 0.0004, 482: 0.0005, 483: 0.0197, 484: 0.0014, 485: 0.0103, 488: 0.0058, 489: 0.027, 490: 0.0421, 493: 0.0006, 494: 0.0043, 511: 0.0111, 512: 0.0317, 513: 0.0053, 517: 0.0391, 518: 0.023, 519: 0.0005, 522: 0.0015, 524: 0.0086, 525: 0.0027, 540: 0.0086, 545: 0.0078, 550: 0.0018, 564: 0.0005, 566: 0.0045, 567: 0.0016, 568: 0.0184, 574: 0.0006, 578: 0.0071, 598: 0.0006, 600: 0.0008, 607: 0.0028, 611: 0.0015, 620: 0.0014, 627: 0.0005, 630: 0.0012, 631: 0.0004, 634: 0.0012, 653: 0.0009, 654: 0.0014, 691: 0.0005})"
      ]
     },
     "execution_count": 22,
     "metadata": {},
     "output_type": "execute_result"
    }
   ],
   "source": [
    "RFC_trained.featureImportances"
   ]
  },
  {
   "cell_type": "code",
   "execution_count": null,
   "metadata": {},
   "outputs": [],
   "source": []
  },
  {
   "cell_type": "code",
   "execution_count": null,
   "metadata": {},
   "outputs": [],
   "source": []
  },
  {
   "cell_type": "markdown",
   "metadata": {},
   "source": [
    "### Another Example"
   ]
  },
  {
   "cell_type": "code",
   "execution_count": 23,
   "metadata": {},
   "outputs": [],
   "source": [
    "df = spark.read.csv('College.csv', inferSchema=True, header=True)"
   ]
  },
  {
   "cell_type": "code",
   "execution_count": 25,
   "metadata": {},
   "outputs": [
    {
     "name": "stdout",
     "output_type": "stream",
     "text": [
      "root\n",
      " |-- School: string (nullable = true)\n",
      " |-- Private: string (nullable = true)\n",
      " |-- Apps: integer (nullable = true)\n",
      " |-- Accept: integer (nullable = true)\n",
      " |-- Enroll: integer (nullable = true)\n",
      " |-- Top10perc: integer (nullable = true)\n",
      " |-- Top25perc: integer (nullable = true)\n",
      " |-- F_Undergrad: integer (nullable = true)\n",
      " |-- P_Undergrad: integer (nullable = true)\n",
      " |-- Outstate: integer (nullable = true)\n",
      " |-- Room_Board: integer (nullable = true)\n",
      " |-- Books: integer (nullable = true)\n",
      " |-- Personal: integer (nullable = true)\n",
      " |-- PhD: integer (nullable = true)\n",
      " |-- Terminal: integer (nullable = true)\n",
      " |-- S_F_Ratio: double (nullable = true)\n",
      " |-- perc_alumni: integer (nullable = true)\n",
      " |-- Expend: integer (nullable = true)\n",
      " |-- Grad_Rate: integer (nullable = true)\n",
      "\n"
     ]
    }
   ],
   "source": [
    "df.printSchema()"
   ]
  },
  {
   "cell_type": "code",
   "execution_count": 26,
   "metadata": {},
   "outputs": [
    {
     "data": {
      "text/plain": [
       "['School',\n",
       " 'Private',\n",
       " 'Apps',\n",
       " 'Accept',\n",
       " 'Enroll',\n",
       " 'Top10perc',\n",
       " 'Top25perc',\n",
       " 'F_Undergrad',\n",
       " 'P_Undergrad',\n",
       " 'Outstate',\n",
       " 'Room_Board',\n",
       " 'Books',\n",
       " 'Personal',\n",
       " 'PhD',\n",
       " 'Terminal',\n",
       " 'S_F_Ratio',\n",
       " 'perc_alumni',\n",
       " 'Expend',\n",
       " 'Grad_Rate']"
      ]
     },
     "execution_count": 26,
     "metadata": {},
     "output_type": "execute_result"
    }
   ],
   "source": [
    "df.columns"
   ]
  },
  {
   "cell_type": "code",
   "execution_count": 29,
   "metadata": {},
   "outputs": [
    {
     "data": {
      "text/plain": [
       "[Row(School='Abilene Christian University', Private='Yes', Apps=1660, Accept=1232, Enroll=721, Top10perc=23, Top25perc=52, F_Undergrad=2885, P_Undergrad=537, Outstate=7440, Room_Board=3300, Books=450, Personal=2200, PhD=70, Terminal=78, S_F_Ratio=18.1, perc_alumni=12, Expend=7041, Grad_Rate=60)]"
      ]
     },
     "execution_count": 29,
     "metadata": {},
     "output_type": "execute_result"
    }
   ],
   "source": [
    "df.head(1)"
   ]
  },
  {
   "cell_type": "code",
   "execution_count": 27,
   "metadata": {},
   "outputs": [],
   "source": [
    "from pyspark.ml.feature import VectorAssembler, StringIndexer"
   ]
  },
  {
   "cell_type": "code",
   "execution_count": 35,
   "metadata": {},
   "outputs": [],
   "source": [
    "assembler = VectorAssembler(inputCols=['Apps','Accept','Enroll','Top10perc','Top25perc','F_Undergrad',\n",
    "                                      'P_Undergrad','Outstate','Room_Board','Books','Personal','PhD',\n",
    "                                      'Terminal','S_F_Ratio','perc_alumni','Expend','Grad_Rate'], outputCol='features')"
   ]
  },
  {
   "cell_type": "code",
   "execution_count": 36,
   "metadata": {},
   "outputs": [],
   "source": [
    "df_n = assembler.transform(df)"
   ]
  },
  {
   "cell_type": "code",
   "execution_count": 37,
   "metadata": {},
   "outputs": [],
   "source": [
    "pi_indexer = StringIndexer(inputCol='Private', outputCol='PrivateIndexer')"
   ]
  },
  {
   "cell_type": "code",
   "execution_count": 38,
   "metadata": {},
   "outputs": [],
   "source": [
    "df_f = pi_indexer.fit(df_n).transform(df_n)"
   ]
  },
  {
   "cell_type": "code",
   "execution_count": 39,
   "metadata": {},
   "outputs": [],
   "source": [
    "df_final = df_f.select(['features','PrivateIndexer'])"
   ]
  },
  {
   "cell_type": "code",
   "execution_count": 40,
   "metadata": {},
   "outputs": [
    {
     "name": "stdout",
     "output_type": "stream",
     "text": [
      "+--------------------+--------------+\n",
      "|            features|PrivateIndexer|\n",
      "+--------------------+--------------+\n",
      "|[1660.0,1232.0,72...|           0.0|\n",
      "|[2186.0,1924.0,51...|           0.0|\n",
      "|[1428.0,1097.0,33...|           0.0|\n",
      "|[417.0,349.0,137....|           0.0|\n",
      "|[193.0,146.0,55.0...|           0.0|\n",
      "|[587.0,479.0,158....|           0.0|\n",
      "|[353.0,340.0,103....|           0.0|\n",
      "|[1899.0,1720.0,48...|           0.0|\n",
      "|[1038.0,839.0,227...|           0.0|\n",
      "|[582.0,498.0,172....|           0.0|\n",
      "|[1732.0,1425.0,47...|           0.0|\n",
      "|[2652.0,1900.0,48...|           0.0|\n",
      "|[1179.0,780.0,290...|           0.0|\n",
      "|[1267.0,1080.0,38...|           0.0|\n",
      "|[494.0,313.0,157....|           0.0|\n",
      "|[1420.0,1093.0,22...|           0.0|\n",
      "|[4302.0,992.0,418...|           0.0|\n",
      "|[1216.0,908.0,423...|           0.0|\n",
      "|[1130.0,704.0,322...|           0.0|\n",
      "|[3540.0,2001.0,10...|           1.0|\n",
      "+--------------------+--------------+\n",
      "only showing top 20 rows\n",
      "\n"
     ]
    }
   ],
   "source": [
    "df_final.show()"
   ]
  },
  {
   "cell_type": "code",
   "execution_count": 41,
   "metadata": {},
   "outputs": [],
   "source": [
    "from pyspark.ml.classification import RandomForestClassifier, DecisionTreeClassifier, GBTClassifier"
   ]
  },
  {
   "cell_type": "code",
   "execution_count": 42,
   "metadata": {},
   "outputs": [],
   "source": [
    "RFC = RandomForestClassifier(labelCol='PrivateIndexer', numTrees=150)\n",
    "DTC = DecisionTreeClassifier(labelCol='PrivateIndexer')\n",
    "GBT = GBTClassifier(labelCol='PrivateIndexer')"
   ]
  },
  {
   "cell_type": "code",
   "execution_count": 43,
   "metadata": {},
   "outputs": [],
   "source": [
    "df_train, df_test = df_final.randomSplit([0.7, 0.3])"
   ]
  },
  {
   "cell_type": "code",
   "execution_count": 44,
   "metadata": {},
   "outputs": [],
   "source": [
    "RFC_trained = RFC.fit(df_train)\n",
    "DTC_trained = DTC.fit(df_train)\n",
    "GBT_trained = GBT.fit(df_train)"
   ]
  },
  {
   "cell_type": "code",
   "execution_count": 45,
   "metadata": {},
   "outputs": [],
   "source": [
    "RFC_test = RFC_trained.transform(df_test)\n",
    "DTC_test = DTC_trained.transform(df_test)\n",
    "GBT_test = GBT_trained.transform(df_test)"
   ]
  },
  {
   "cell_type": "code",
   "execution_count": 47,
   "metadata": {},
   "outputs": [
    {
     "name": "stdout",
     "output_type": "stream",
     "text": [
      "root\n",
      " |-- features: vector (nullable = true)\n",
      " |-- PrivateIndexer: double (nullable = false)\n",
      " |-- rawPrediction: vector (nullable = true)\n",
      " |-- probability: vector (nullable = true)\n",
      " |-- prediction: double (nullable = false)\n",
      "\n"
     ]
    }
   ],
   "source": [
    "RFC_test.printSchema()"
   ]
  },
  {
   "cell_type": "code",
   "execution_count": 51,
   "metadata": {},
   "outputs": [
    {
     "name": "stdout",
     "output_type": "stream",
     "text": [
      "root\n",
      " |-- features: vector (nullable = true)\n",
      " |-- PrivateIndexer: double (nullable = false)\n",
      " |-- rawPrediction: vector (nullable = true)\n",
      " |-- probability: vector (nullable = true)\n",
      " |-- prediction: double (nullable = false)\n",
      "\n"
     ]
    }
   ],
   "source": [
    "GBT_test.printSchema()"
   ]
  },
  {
   "cell_type": "code",
   "execution_count": 46,
   "metadata": {},
   "outputs": [],
   "source": [
    "from pyspark.ml.evaluation import BinaryClassificationEvaluator"
   ]
  },
  {
   "cell_type": "code",
   "execution_count": 48,
   "metadata": {},
   "outputs": [],
   "source": [
    "eval_ = BinaryClassificationEvaluator(labelCol='PrivateIndexer')"
   ]
  },
  {
   "cell_type": "code",
   "execution_count": 49,
   "metadata": {},
   "outputs": [
    {
     "data": {
      "text/plain": [
       "0.9610709732256697"
      ]
     },
     "execution_count": 49,
     "metadata": {},
     "output_type": "execute_result"
    }
   ],
   "source": [
    "eval_.evaluate(RFC_test)"
   ]
  },
  {
   "cell_type": "code",
   "execution_count": 50,
   "metadata": {},
   "outputs": [
    {
     "data": {
      "text/plain": [
       "0.8848278793030175"
      ]
     },
     "execution_count": 50,
     "metadata": {},
     "output_type": "execute_result"
    }
   ],
   "source": [
    "eval_.evaluate(DTC_test)"
   ]
  },
  {
   "cell_type": "code",
   "execution_count": 52,
   "metadata": {},
   "outputs": [
    {
     "data": {
      "text/plain": [
       "0.9285592860178498"
      ]
     },
     "execution_count": 52,
     "metadata": {},
     "output_type": "execute_result"
    }
   ],
   "source": [
    "eval_.evaluate(GBT_test)"
   ]
  },
  {
   "cell_type": "code",
   "execution_count": null,
   "metadata": {},
   "outputs": [],
   "source": []
  }
 ],
 "metadata": {
  "kernelspec": {
   "display_name": "Python 3",
   "language": "python",
   "name": "python3"
  },
  "language_info": {
   "codemirror_mode": {
    "name": "ipython",
    "version": 3
   },
   "file_extension": ".py",
   "mimetype": "text/x-python",
   "name": "python",
   "nbconvert_exporter": "python",
   "pygments_lexer": "ipython3",
   "version": "3.7.6"
  }
 },
 "nbformat": 4,
 "nbformat_minor": 4
}
